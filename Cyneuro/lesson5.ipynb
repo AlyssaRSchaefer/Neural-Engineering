{
 "cells": [
  {
   "cell_type": "markdown",
   "metadata": {},
   "source": [
    "# Week Five: The neuron has electrical components? Really?\n",
    "\n",
    "## MONDAY and WEDNESDAY\n",
    "1. Let us first understand the overall structure of a neuron with [this video](https://www.youtube.com/watch?v=ob5U8zPbAX4).\n",
    "2. Now let us get an overview from a functional point of view to show how it is an electrical device: [Slides: Neuron has Electrical Components](resources/week5/4590%20Neuron%20has%20electrical%20components%20-%20how...what.pdf).<br>\n",
    "3A. CAPACITOR: View this video to understand the structure of an electrical capacitor inside your computer.<br>\n",
    "[![The Capacitor](images/capacitor.png)](https://www.youtube.com/watch?v=ob5U8zPbAX4)\n",
    "<br>\n",
    "So, a capacitor has an insulator surrounded by two conducting plates. The corresponding elements in a neuron are: Insulator - phospholipid bilayer, and conducting plates - extra and intracellular fluids. The video below illustrates the cell membrane which acts as an insulator of the capacitor. <br>\n",
    "\n",
    "[![Cell Membrane Structure & Function](images/cellmembrane.png)](https://www.youtube.com/watch?v=fJfTDc3WzQ8)\n",
    "\n",
    "3B. RESISTORS: The standard electrical resistor follows Ohm's Law which is V = I*R. It permits current (typically electrons) to pass through. \n",
    "<br><br>\n",
    "In a neuron, the protein pores are the resistors and they permit ions (not electrons) to pass through as current. The slide below illustrates how the protein pores embedded in a cell membrane act as resistors. \n",
    "![Protein Pores as Resistor](images/Resistor.png)\n",
    "<br>\n",
    "3C. BATTERY: For standard electrical devices that we use regularly, the power source typically is a 5, 9, or 12 volt battery. Note that those batteries are powered by chemical energy. \n",
    "<br><br>\n",
    "What is the battery or power source that charges a neuron? The power source of a neuron comes frmo chemical gradients that set up across the cell membrane. Here is a video of how the chemical gradients for various ions that is set up using \"ion pumps\". The different ion pumps consume energy from the food you eat... and their sole job is to set up those chemical gradients!\n",
    "<br>\n",
    "\n",
    "[![Resting Membrane Potential](images/battery.jpg)](https://www.youtube.com/watch?v=hk09AkV5_Kc)\n",
    "\n",
    "<br>\n",
    "3D. EXTERNAL SOURCE OF CURRENT: In standard electrical devices, they don't receive any additional currents. But in neurons, they receive currents from other neurons via synapses. This 'external' current source is what helps active a neuron that is otherwise at rest.\n",
    "<br><br>\n",
    "3E. PUTTING IT ALL TOGETHER: Here is how we can put all the components of a neuron together in a composite sketch focusing on the electrical properties of the components.<br>\n",
    "![Neuron Components](images/neuroncircuit.png)"
   ]
  },
  {
   "cell_type": "markdown",
   "metadata": {},
   "source": [
    "## FRIDAY \n",
    "Homework #5 Assigned: Peruse all the videos and materials above. Then summarize each item (1, 2, and then A through E)in 1 page max in itemized bullet form. For Part E, reproduce the sketch, labeling each component fully."
   ]
  },
  {
   "cell_type": "code",
   "execution_count": null,
   "metadata": {},
   "outputs": [],
   "source": []
  }
 ],
 "metadata": {
  "kernelspec": {
   "display_name": "Python 3 (ipykernel)",
   "language": "python",
   "name": "python3"
  },
  "language_info": {
   "codemirror_mode": {
    "name": "ipython",
    "version": 3
   },
   "file_extension": ".py",
   "mimetype": "text/x-python",
   "name": "python",
   "nbconvert_exporter": "python",
   "pygments_lexer": "ipython3",
   "version": "3.12.1"
  }
 },
 "nbformat": 4,
 "nbformat_minor": 4
}
