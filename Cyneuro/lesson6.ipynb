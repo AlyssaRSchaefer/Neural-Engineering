{
 "cells": [
  {
   "cell_type": "markdown",
   "metadata": {},
   "source": [
    "# Week Six: How do we measure membrane potential and what are typical values?\n",
    "\n",
    "## MONDAY and WEDNESDAY\n",
    "1. Peruse the slides [Biology Lab 1 - Extracellular Recordings and LFP](resources/week6/Biology%20Slides%201%20(Extracellular%20Recordings%20and%20LFP).pdf). Complete the 5 questions in the last few pages. <br> [Instruction document for B1](resources/week6/B1%20instruction-1.docx).\n",
    "2. Summarize the two online videos in itemized bullet form (1 page each): [Extracellular Recordings](https://www.youtube.com/watch?v=7zCJ7nZG0YM), [Brain Signals: LFP (0-11 minutes)](https://www.youtube.com/watch?v=PwkYgrTE2fU&feature=youtu.be).\n",
    "\n",
    "## FRIDAY\n",
    "Homework #6 Assigned: Complete the questions in items 1 and 2 above and upload to the Canvas site. "
   ]
  }
 ],
 "metadata": {
  "kernelspec": {
   "display_name": "Python 3 (ipykernel)",
   "language": "python",
   "name": "python3"
  },
  "language_info": {
   "codemirror_mode": {
    "name": "ipython",
    "version": 3
   },
   "file_extension": ".py",
   "mimetype": "text/x-python",
   "name": "python",
   "nbconvert_exporter": "python",
   "pygments_lexer": "ipython3",
   "version": "3.12.1"
  }
 },
 "nbformat": 4,
 "nbformat_minor": 4
}
