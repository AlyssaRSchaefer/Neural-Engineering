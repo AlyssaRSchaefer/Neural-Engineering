{
 "cells": [
  {
   "cell_type": "markdown",
   "metadata": {},
   "source": [
    "# Week Four: Basics of Electrical Circuits and of Brain Circuits (continued)\n",
    "\n",
    "## MONDAY\n",
    "\n",
    "Here is a [simple set of videos](https://www.youtube.com/watch?v=OIpHPsnLlNU) related to simple RC circuits. \n",
    "1. You are to go over the videos 1, 4, and 8, and summarize them in itemized bullet form of about 1/2 page each.\n",
    "2. (a) Solve the RC circuit-related problems in [this worksheet](resources/week4/multiple%20choice%20questions%20-%20capacitors-1.pdf) and (b) SOlve the RC circuit-related problems at [this site](https://www.sanfoundry.com/network-theory-questions-answers-dc-response-rc/).\n",
    "3. Now consider the following problem: You are given an RC circuit as in video 4 above. Typical values of input reistance (R) of a neuron vaires in the range of 100 N-Ohms to several G-Ohms, and typical values of capacitance (C) for a neuron varies frmo 1 to 100 picoFarads. If R = 1 G-Ohms and C = 25 pF, find the time constant for the charging and discharging of a neuron. Then plot the profile of the charging of the membrane potential V of the neuron, assuming V starts at -65 mV and goes up to -55 mV with some current injection.\n",
    "\n",
    "## WEDNESDAY\n",
    "4. Now you design an electrical circuit to light a bulb, say for a Christmas tree. Go to [this website](https://phet.colorado.edu/sims/html/circuit-construction-kit-dc/latest/circuit-construction-kit-dc_all.html) and click the play button to design to circuit on your own. <br><br> You will see a palette that you can drag and drop components into. Design the circuit to get the light bulb to light up. (HINT: You will need a battery, a wire, a resistor, and a light bulb)<br><br> Attach a copy of your design to your homework document and explain how it works.\n",
    "5. [Animation of an RC Circuit](http://www.falstad.com/circuit/circuitjs.html?cct=$+1+0.000002+0.910053618607165+44+5+50%0Av+128+256+128+112+0+0+40+6+0+0+0.5%0Ar+256+112+256+256+0+10%0Ar+368+112+368+192+0+10%0Ac+368+192+368+256+0+0.000072+0%0Aw+368+256+256+256+0%0Aw+256+256+128+256+0%0Aw+256+112+368+112+0%0As+128+112+256+112+0+1+false%0Ao+3+64+0+4099+0.0000762939453125+0.00009765625+0+2+3+3%0A): This course will show that this circuit represents a neuron! That is, a neuron is esentially an electrical device as your will see in the coming weeks. Try different settings and summarize what is going on in itemized bullet form, based on all the circuit analyses you have performed over the past two weeks.\n",
    "\n",
    "## FRIDAY\n",
    "Homework #4 Assigned: Complete questions in items 1, 2, 3 and 4 above and upload to the Canvas site."
   ]
  },
  {
   "cell_type": "code",
   "execution_count": null,
   "metadata": {},
   "outputs": [],
   "source": []
  }
 ],
 "metadata": {
  "kernelspec": {
   "display_name": "Python 3 (ipykernel)",
   "language": "python",
   "name": "python3"
  },
  "language_info": {
   "codemirror_mode": {
    "name": "ipython",
    "version": 3
   },
   "file_extension": ".py",
   "mimetype": "text/x-python",
   "name": "python",
   "nbconvert_exporter": "python",
   "pygments_lexer": "ipython3",
   "version": "3.12.1"
  }
 },
 "nbformat": 4,
 "nbformat_minor": 4
}
