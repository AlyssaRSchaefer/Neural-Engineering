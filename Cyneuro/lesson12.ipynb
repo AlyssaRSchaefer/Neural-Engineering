{
 "cells": [
  {
   "cell_type": "markdown",
   "metadata": {},
   "source": [
    "# Week 12: How do we model tone and shock?\n",
    "\n",
    "## MONDAY and WEDNESDAY\n",
    "How do we model tone, shock, and plasticity? Download the slides at the link below and complete all activities listed.\n",
    "<br><br>\n",
    "[What are tone, shock, and plasticity? - Activity and Lesson](resources/week12/HOWDOT~1-1.PPT)\n",
    "\n",
    "## FRIDAY\n",
    "Homework #12 assigned: (i) Complete the questions in this sheet related to the topics covered this week and upload to the Canvas site, and (ii) as with previous weeks there will be an online quiz on a Monday after you upload the homework."
   ]
  },
  {
   "cell_type": "code",
   "execution_count": null,
   "metadata": {},
   "outputs": [],
   "source": []
  }
 ],
 "metadata": {
  "kernelspec": {
   "display_name": "Python 3 (ipykernel)",
   "language": "python",
   "name": "python3"
  },
  "language_info": {
   "codemirror_mode": {
    "name": "ipython",
    "version": 3
   },
   "file_extension": ".py",
   "mimetype": "text/x-python",
   "name": "python",
   "nbconvert_exporter": "python",
   "pygments_lexer": "ipython3",
   "version": "3.12.1"
  }
 },
 "nbformat": 4,
 "nbformat_minor": 4
}
