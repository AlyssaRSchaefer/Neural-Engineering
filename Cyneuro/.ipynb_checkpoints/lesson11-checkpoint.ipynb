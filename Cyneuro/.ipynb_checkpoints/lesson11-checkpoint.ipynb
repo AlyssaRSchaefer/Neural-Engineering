{
  "cells": [
    {
      "cell_type": "markdown",
      "metadata": {},
      "source": [
        "# Week 11: What is Fear?\n",
        "\n",
        "## MONDAY and WEDNESDAY\n",
        "Downlaod and peruse the powerpoint on \"What is Fear?\". Perform all activities listed therein.\n",
        "<br><br>\n",
        "[What is Fear? - Activity and Lesson](/resources/week11/What%20is%20Fear-2.pptx)\n",
        "\n",
        "## FRIDAY\n",
        "Homework #11 Assigned: (i) Complete the questions in the \"What is Fear?\" activity and upload to the Canvas site, and (ii) as with previous weeks, there will be an online quiz on the Monday after you upload the homework."
      ]
    }
  ],
  "metadata": {
    "kernelspec": {
      "display_name": "Python 3",
      "language": "python",
      "name": "python3"
    },
    "language_info": {
      "codemirror_mode": {
        "name": "ipython",
        "version": 3
      },
      "file_extension": ".py",
      "mimetype": "text/x-python",
      "name": "python",
      "nbconvert_exporter": "python",
      "pygments_lexer": "ipython3",
      "version": "3.7.8"
    }
  },
  "nbformat": 4,
  "nbformat_minor": 4
}