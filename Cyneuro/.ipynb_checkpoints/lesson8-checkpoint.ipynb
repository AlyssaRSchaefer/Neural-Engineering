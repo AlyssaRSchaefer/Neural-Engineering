{
 "cells": [
  {
   "cell_type": "markdown",
   "metadata": {},
   "source": [
    "# Week 8: How do we model the neuron that was shown to be an electrical device?\n",
    "\n",
    "## MONDAY\n",
    "How do we simulate the neuron you assembled last week?\n",
    "<br><br>\n",
    "Go to [this repository](https://github.com/KhuramC/SoftwareTutorials) and select B1_Creating_A_Single_Cell_Model.ipynb. Then click on 'Open in Colab.\n",
    "<br><br>\n",
    "We already covered Parts I and II of the Colab previously, and now we focus on Part III. Answer all questions in this part on a separate sheet.\n",
    "<br><br>\n",
    "Try various current injections and observe how the model responds. Then sketch input (current injection vs time) and output (voltage vs time), one on top of the other... and understand how it works.\n",
    "\n",
    "## WEDNESDAY\n",
    "Perform parametric studies and report all results.\n",
    "\n",
    "## FRIDAY\n",
    "Homework #8 assigned: Complete the activities from Monday and Wednesday and upload to Canvas. As with previous weeks, there will be an online quiz on a Friday after you upload the homework."
   ]
  },
  {
   "cell_type": "code",
   "execution_count": null,
   "metadata": {},
   "outputs": [],
   "source": []
  }
 ],
 "metadata": {
  "kernelspec": {
   "display_name": "Python 3 (ipykernel)",
   "language": "python",
   "name": "python3"
  },
  "language_info": {
   "codemirror_mode": {
    "name": "ipython",
    "version": 3
   },
   "file_extension": ".py",
   "mimetype": "text/x-python",
   "name": "python",
   "nbconvert_exporter": "python",
   "pygments_lexer": "ipython3",
   "version": "3.12.1"
  }
 },
 "nbformat": 4,
 "nbformat_minor": 4
}
