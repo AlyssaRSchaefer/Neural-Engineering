{
  "cells": [
    {
      "cell_type": "markdown",
      "metadata": {},
      "source": [
        "# Week 13: How do we model synapses and plasticity?\n",
        "\n",
        "## MONDAY and WEDNESDAY\n",
        "1. View these [slides]() on \"How do we model plasticity?\".\n",
        "2. Go to this [repository](https://github.com/cyneuro/Fear-Lesson-Plans) and select and follow self-learning Colab \"How do we model plasticity?\". \n",
        "\n",
        "## FRIDAY\n",
        "Homework #13 assigned: (i) Complete the questions in this week related to the topics covered this week and upload your answers to the Canvas site, and (ii) as with previous weeks there will be an online quiz on a Monday after you upload the homework."
      ]
    }
  ],
  "metadata": {
    "kernelspec": {
      "display_name": "Python 3",
      "language": "python",
      "name": "python3"
    },
    "language_info": {
      "codemirror_mode": {
        "name": "ipython",
        "version": 3
      },
      "file_extension": ".py",
      "mimetype": "text/x-python",
      "name": "python",
      "nbconvert_exporter": "python",
      "pygments_lexer": "ipython3",
      "version": "3.7.8"
    }
  },
  "nbformat": 4,
  "nbformat_minor": 4
}