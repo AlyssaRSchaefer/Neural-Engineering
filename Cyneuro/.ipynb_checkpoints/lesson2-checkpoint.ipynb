{
 "cells": [
  {
   "cell_type": "markdown",
   "metadata": {},
   "source": [
    "# Week Two: What does our brain do?\n",
    "\n",
    "## MONDAY\n",
    "1. Review items 1 (quiz) and 2 (book Make it Stick), and summarize in itemized bullet form, limited to 1/4th a page each. The other items are optional for those interested in the topic, and you don't need to summarize them.\n",
    "2. Society of Neuroscience has a very popular book for lay-persons titled 'BrainFacts' that is available at [this site](https://www.brainfacts.org/the-brain-facts-book).\n",
    "Summarize the book by condensing the key points in each chapter in a page, in itemized bullet point form (1 page per chapter). You will have a total of 18 pages (can be shorter). Focus on highlighting the key points of each chapter. \n",
    "\n",
    "### Science of Learning & Teaching Resources\n",
    "1. Take this [QUIZ](https://www.npr.org/sections/ed/2017/03/22/520843457/you-probably-believe-some-learning-myths-take-our-quiz-to-find-out) on the myths of learning that you probably believe.\n",
    "2. The book [Make it Stick by Brown, Roediger and McDaniel](https://www.amazon.com/Make-It-Stick-Successful-Learning/dp/0674729013) lists fascinating discoveries about learning and teaching revealed... and being continued to be revealed by cognitive neuroscience. \n",
    "3. Extra articles and videos related to these topics you may want to check out:\n",
    "[Right from the horse's mouth](https://www.youtube.com/watch?v=3DGmr0etxWI): Nice talk about the book by one of the authors <br>\n",
    "[What works, What doesn't](resources/week2/What_works,_What_doesn't.pdf): Scientific American article about the topic <br>\n",
    "[Top 20 Principles](resources/week2/Top%2020%20Principles.pdf): A Great Summary\n",
    "4. OPTIONAL: The resources below are only for your reading; no need to summarize.<br>\n",
    "A. [Do learners really know best?](resources/week2/Do%20learners%20really%20know%20best.pdf)<br>\n",
    "B. [Self-Regulated Learning - Beliefs, Techniques, and Illusions](resources/week2/Self-Regulated%20Learning%20-%20Beliefs,%20Techniques%20and%20Illusions.pdf)<br>\n",
    "C. [Strengthening the Student Toolbox](resources/week2/Strengthening%20the%20student%20toolbox.pdf)<br>\n",
    "D. [The Influence of Experience and Deliberate Practice](resources/week2/Ericsson%202006%20Handbook%20chapter%20improved.pdf)<br>\n",
    "E. [Cohen Shermon 2014 Self-Affirmation Research](resources/week2/Cohen%20Sherman%202014%20AnnualReview%20self-affirmation%20research-1.pdf)<br>\n",
    "F. [The Need to Integrate Neuroscience and Learning](resources/week2/Integrating%20neuroscience%20and%20learning-%20now's%20the%20time(1).pdf)<br>\n",
    "\n",
    "## WEDNESDAY\n",
    "3. Summarize the article [Seven Challenges for Neuroscience](resources/week2/Seven%20challenges%20for%20neuroscience%20Markram%202013.pdf).\n",
    "4. How do we measure brain activity for modeling purposes? What this video: [Human brain mapping and brain decoding (TedTalk, 17:26 min)](https://www.youtube.com/watch?v=Ecvv-EvOj8M)\n",
    "Work has started to decode and use it already: [Tetraplegic can drink coffee](https://www.youtube.com/watch?v=ogBX18maUiM)\n",
    "\n",
    "## FRIDAY\n",
    "Homework #2 Assigned: Complete the tasks in the (i) Monday and (ii) Wednesday sections and upload as a pdf."
   ]
  },
  {
   "cell_type": "code",
   "execution_count": null,
   "metadata": {},
   "outputs": [],
   "source": []
  }
 ],
 "metadata": {
  "kernelspec": {
   "display_name": "Python 3 (ipykernel)",
   "language": "python",
   "name": "python3"
  },
  "language_info": {
   "codemirror_mode": {
    "name": "ipython",
    "version": 3
   },
   "file_extension": ".py",
   "mimetype": "text/x-python",
   "name": "python",
   "nbconvert_exporter": "python",
   "pygments_lexer": "ipython3",
   "version": "3.12.1"
  }
 },
 "nbformat": 4,
 "nbformat_minor": 4
}
