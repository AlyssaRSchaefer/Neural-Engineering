{
 "cells": [
  {
   "cell_type": "markdown",
   "metadata": {},
   "source": [
    "# Week 9: From neurons to networks, what is a synapse?\n",
    "\n",
    "## MONDAY\n",
    "\n",
    "Watch the following lecture: <br>\n",
    "[![Neural Engineering S4 LEC](https://img.youtube.com/vi/lGzIOnx5Q0c/0.jpg)](https://www.youtube.com/watch?v=lGzIOnx5Q0c)\n",
    "<br><br>\n",
    "[Lecture Slides](resources/week9/4590%20S4%20-%20LEC%20How%20do%20neurons%20communicate%20via%20synapses-1-1.pdf)\n",
    "<br><br>\n",
    "[Chalkboard Pictures: Modeling a Synapse](resources/week9/Chalkboard%20pic%20SYNAPSES-1-1/)\n",
    "<br><br>\n",
    "[Ying-Chen's Schematic on how a model works](resources/week9/How%20a%20syapse%20works%20YING-CHEN.pptx): Input Spike -> Conductance -> Synaptic current -> EPSP or Action Potential in post-synaptic cell (AP assumed in this picture, i.e., synapse is strong enough, else will need temporal or spatial summation). \n",
    "\n",
    "## WEDNESDAY\n",
    "\n",
    "[Insert Greg's Colab on how a synapse works (from e-book + questions)]\n",
    "\n",
    "## FRIDAY\n",
    "Homework #9 Assigned: (i) Complete the questions in this sheet related to topics covered this week and upload to the canvas site, and (ii) as with previous weeks, there will be an online quiz on a Friday after you upload the homework."
   ]
  },
  {
   "cell_type": "code",
   "execution_count": null,
   "metadata": {},
   "outputs": [],
   "source": []
  }
 ],
 "metadata": {
  "kernelspec": {
   "display_name": "Python 3 (ipykernel)",
   "language": "python",
   "name": "python3"
  },
  "language_info": {
   "codemirror_mode": {
    "name": "ipython",
    "version": 3
   },
   "file_extension": ".py",
   "mimetype": "text/x-python",
   "name": "python",
   "nbconvert_exporter": "python",
   "pygments_lexer": "ipython3",
   "version": "3.12.1"
  }
 },
 "nbformat": 4,
 "nbformat_minor": 4
}
