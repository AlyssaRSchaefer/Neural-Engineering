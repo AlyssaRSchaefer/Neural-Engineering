{
  "cells": [
    {
      "cell_type": "markdown",
      "metadata": {},
      "source": [
        "# 4401: Intro to Computational Neural Engineering: Course Answer Key\n",
        "\n",
        "## Lesson One: How is our fear circuit hard-wired to learn fear?\n",
        "\n",
        "## Lesson Two: The Sciences of Learning and Teaching\n",
        "\n",
        "## Lesson Three: Basics of Electrical Circuits & Brain Circuits\n",
        "### Electrical Circuit Analysis\n",
        "#### Part 1 Solutions\n",
        "<img src=\"images/PART1.png\" alt = \"ECA part 1 solutions\"/>\n",
        "\n",
        "#### Part 2 Solutions\n",
        "<img src=\"images/PART2.png\" alt = \"ECA part 2 solutions\"/> <br>\n",
        "\n",
        "#### Part 3 Solutions\n",
        "<img src=\"images/PART3.png\" alt = \"ECA part 3 solutions\"/><br>\n",
        "\n",
        "#### Part 4 Solutions\n",
        "<img src=\"images/PART4.png\" alt = \"ECA part 4 solutions\"/> <br>\n",
        "\n",
        "#### Part 5 Solutions\n",
        "<img src=\"images/PART5.png\" alt = \"ECA part 5 solutions\"/> <br>\n",
        "\n",
        "### Circuits (Khan Academy) Exercises\n",
        "1. (From video 1, Intro to Circuits & Ohm's Law) If V = 16 V and R = 8<span>&#8486;</span>, what is the current? <br>\n",
        "&nbsp;&nbsp;&nbsp;&nbsp;&nbsp;&nbsp;Solution: I = V/R = 16V / 8<span>&#8486;</span> = 2 A \n",
        "2. (From video 2, Resistors in Series) Find the current for resistors in parallel if R<sub>1</sub> = 2<span>&#8486;</span>, R<sub>2</sub> = 3<span>&#8486;</span>, R<sub>3</sub> = 5<span>&#8486;</span>, and V = 20 V. <br>\n",
        "&nbsp;&nbsp;&nbsp;&nbsp;&nbsp;&nbsp;Solution: I = V/R = 20V/10<span>&#8486;</span> = 2 A\n",
        "3. (From video 3, Resistors in Parallel) Given a circuit with two resistors in parallel with R<sub>1<\\sub> = 20<span>&#8486;</span>, R<sub>2<\\sub> = 5<span>&#8486;</span>, and V = 16 V, find the total resistance and use it to find the current. <br>\n",
        "&nbsp;&nbsp;&nbsp;&nbsp;&nbsp;&nbsp; Solution: R<sub>eq</sub> = 1/($\\Large\\frac{1}{20 Ohms}$ + $\\Large\\frac{1}{5 Ohms}$) <br>\n",
        "&nbsp;&nbsp;&nbsp;&nbsp;&nbsp;&nbsp;I = V/R<sub>eq</sub> = 16V / 4<span>&#8486;</span> = 4 A <br>\n",
        "&nbsp;&nbsp;&nbsp;&nbsp;&nbsp;&nbsp;I<sub>1</sub> = V/R<sub>1</sub> = 16V/4<span>&#8486;</span> = 0.8 A <br>\n",
        "&nbsp;&nbsp;&nbsp;&nbsp;&nbsp;&nbsp;I<sub>2</sub> = V/R<sub>2</sub> = 16V/20<span>&#8486;</span> = 3.2 A\n",
        "\n",
        "### Capacitors & Capacitance Video Exercises\n",
        "1. Given a 9 Volt battery that fully charges a capacitor with 3 Farads capacitance, what is the charge? <br>\n",
        "&nbsp;&nbsp;&nbsp;&nbsp;&nbsp;&nbsp; Solution: C = Q/V => Q = CV = 3F \\* 9V = 27 Coulombs\n",
        "2. Given a 2 Farad capacitor that stores a charge of 6, what is the voltage? <br>\n",
        "&nbsp;&nbsp;&nbsp;&nbsp;&nbsp;&nbsp; Solution: C = Q/V => V = Q/C = 6C/2F = 3 Volts\n",
        "\n",
        "\n",
        "\n",
        "## Lesson Four: Basics of Electrical Circuits & Brain Circuits CONTINUED\n",
        "## Lesson Five: The Neuron's Electrical Components\n",
        "## Lesson Six: Measuring Membrane Potential\n",
        "## Lesson Seven: The Power Source of a Neuron\n",
        "## Lesson Eight: Modeling the Neuron as an Electrical Device\n",
        "## Lesson Nine: From neurons to networks, what is a synapse?\n",
        "## Lesson Ten: Models to Understand Neuronal Networks\n",
        "## Lesson Eleven: What is fear?\n",
        "## Lesson Twelve: How do we model tone and shock?\n",
        "## Lesson Thirteen: How do we model synapses and plasticity?\n",
        "## Lesson Fourteen: Constructing a 10-cell Amygdala Network\n",
        "## Lesson Fifteen: Using a Model to Illustrate how the Amygdala Learns Fear"
      ]
    }
  ],
  "metadata": {
    "kernelspec": {
      "display_name": "Python 3",
      "language": "python",
      "name": "python3"
    },
    "language_info": {
      "codemirror_mode": {
        "name": "ipython",
        "version": 3
      },
      "file_extension": ".py",
      "mimetype": "text/x-python",
      "name": "python",
      "nbconvert_exporter": "python",
      "pygments_lexer": "ipython3",
      "version": "3.7.8"
    }
  },
  "nbformat": 4,
  "nbformat_minor": 4
}