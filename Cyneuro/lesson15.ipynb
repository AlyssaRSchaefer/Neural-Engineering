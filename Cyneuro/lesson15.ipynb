{
 "cells": [
  {
   "cell_type": "markdown",
   "metadata": {},
   "source": [
    "# Week 15: Modeling a Network to Illustrate how the Amygdala Learns Fear\n",
    "\n",
    "## MONDAY and WEDNESDAY\n",
    "\n",
    "1. View [these slides](resources/week14/D5-ACT~1.PPT) on 'How do we model the network of neurons in the amygdala?'.\n",
    "2. Select and complete the self-learning Colab module on 'Network Model on Learning Fear in a 10-Cell Model' from this repository: https://umsystem.instructure.com/courses/274482/pages/week-16-network-model-to-illustrate-how-amygdala-learns-fear?module_item_id=7705498\n",
    "\n",
    "## FRIDAY \n",
    "Homework #15 Assigned: Complete the questions in this sheet related to the topics covered this week and upload your answers to the Canvas site."
   ]
  },
  {
   "cell_type": "code",
   "execution_count": null,
   "metadata": {},
   "outputs": [],
   "source": []
  }
 ],
 "metadata": {
  "kernelspec": {
   "display_name": "Python 3 (ipykernel)",
   "language": "python",
   "name": "python3"
  },
  "language_info": {
   "codemirror_mode": {
    "name": "ipython",
    "version": 3
   },
   "file_extension": ".py",
   "mimetype": "text/x-python",
   "name": "python",
   "nbconvert_exporter": "python",
   "pygments_lexer": "ipython3",
   "version": "3.12.1"
  }
 },
 "nbformat": 4,
 "nbformat_minor": 4
}
