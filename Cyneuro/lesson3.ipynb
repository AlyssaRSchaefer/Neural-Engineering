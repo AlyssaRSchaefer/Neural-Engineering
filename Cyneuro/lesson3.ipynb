{
  "cells": [
    {
      "cell_type": "markdown",
      "metadata": {},
      "source": [
        "# Week Three: Basics of Electrical Circuits and of Brain Circuits\n",
        "\n",
        "## MONDAY and WEDNESDAY\n",
        "1. Complete all lessons upto and including Lesson 5 at this site on [Electric Circuit Analysis](https://en.wikiversity.org/wiki/Electric_Circuit_Analysis).\n",
        "2. View the first three videos, upto and including 'Resistors in Parallel' at this site: [\"Unit 12: Circuits - Khan Academy\"](https://www.khanacademy.org/science/physics/circuits-topic). Repeat all problems yourself without taking help from the videos a second time. \n",
        "3. View this video on the Khan Academy site: [What is a Capacitor?](https://www.khanacademy.org/science/physics/circuits-topic/circuits-with-capacitors/v/capacitors-and-capacitance). Redo the calculations done in the video. \n",
        "<br>To test your knowledge, try out the [multiple choice questions](https://www.sanfoundry.com/1000-electric-circuits-questions-answers/) at this site.\n",
        "\n",
        "## FRIDAY\n",
        "Homework #3 Assigned: Answer the questions in items 1, 2, and 3 above and upload them to the Canvas site."
      ]
    }
  ],
  "metadata": {
    "kernelspec": {
      "display_name": "Python 3",
      "language": "python",
      "name": "python3"
    },
    "language_info": {
      "codemirror_mode": {
        "name": "ipython",
        "version": 3
      },
      "file_extension": ".py",
      "mimetype": "text/x-python",
      "name": "python",
      "nbconvert_exporter": "python",
      "pygments_lexer": "ipython3",
      "version": "3.7.8"
    }
  },
  "nbformat": 4,
  "nbformat_minor": 4
}