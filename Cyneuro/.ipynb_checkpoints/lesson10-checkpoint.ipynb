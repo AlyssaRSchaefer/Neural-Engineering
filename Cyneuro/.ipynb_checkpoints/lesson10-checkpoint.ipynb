{
  "cells": [
    {
      "cell_type": "markdown",
      "metadata": {},
      "source": [
        "# Week 10: Models to Gain Insidghts into the Functioning of a Network of Neurons\n",
        "\n",
        "## MONDAY and WEDNESDAY\n",
        "\n",
        "[Insert Lecture Videos]\n",
        "\n",
        "[Software Experiment 6: Three neural netowrks](/resources/week10/Software%20Experiment%206%20-%20Three%20neural%20networks-1.pdf)\n",
        "<br>- This is also in the Colab notebook S6_STM_WTA.ipynb.\n",
        "\n",
        "## FRIDAY\n",
        "Homework #10 Assigned: (i) Complete the questions in the sheet above related to the topics covered this week and upload to Canvas, and (ii) there will be an online quiz on a Monday after you upload the homework. "
      ]
    }
  ],
  "metadata": {
    "kernelspec": {
      "display_name": "Python 3",
      "language": "python",
      "name": "python3"
    },
    "language_info": {
      "codemirror_mode": {
        "name": "ipython",
        "version": 3
      },
      "file_extension": ".py",
      "mimetype": "text/x-python",
      "name": "python",
      "nbconvert_exporter": "python",
      "pygments_lexer": "ipython3",
      "version": "3.7.8"
    }
  },
  "nbformat": 4,
  "nbformat_minor": 4
}