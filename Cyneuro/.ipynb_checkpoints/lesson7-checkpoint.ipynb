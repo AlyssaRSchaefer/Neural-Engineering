{
  "cells": [
    {
      "cell_type": "markdown",
      "metadata": {},
      "source": [
        "# Week 7: What is the power source of a neuron?\n",
        "\n",
        "## MONDAY\n",
        "View the following videos and understand the concepts of chemical potential energy, Nernst potential and how batteries use stored chemical energy.\n",
        "<br>\n",
        "(i) [Nernst Potential](https://www.youtube.com/watch?v=rJSJWosBJg0)\n",
        "(ii) [How does a battery work?](https://www.youtube.com/watch?v=hObLxlXJPPM)\n",
        "\n",
        "## WEDNESDAY\n",
        "What is the power source of a neuron? View these resources on Nernst potential and the biophysics of powering a neuron:\n",
        "<br><br>\n",
        "[Insert Lecture Videos Here]\n",
        "\n",
        "## FRIDAY\n",
        "Homework #7 Assigned: (i) Summarize the sources in the Monday section in itemized bullet form, limited to 1 page each, and (ii), after you watch and understand the concept of Nernst potential via the two videos in the Wednesday seciton, answer the questions in slide 2 related to the fundamentals related to the Nernst potential.\n"
      ]
    }
  ],
  "metadata": {
    "kernelspec": {
      "display_name": "Python 3",
      "language": "python",
      "name": "python3"
    },
    "language_info": {
      "codemirror_mode": {
        "name": "ipython",
        "version": 3
      },
      "file_extension": ".py",
      "mimetype": "text/x-python",
      "name": "python",
      "nbconvert_exporter": "python",
      "pygments_lexer": "ipython3",
      "version": "3.7.8"
    }
  },
  "nbformat": 4,
  "nbformat_minor": 4
}