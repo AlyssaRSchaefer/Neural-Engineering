{
  "cells": [
    {
      "cell_type": "markdown",
      "metadata": {},
      "source": [
        "# Week 14: Construct a 10-cell network of the amygdala\n",
        "\n",
        "## MONDAY\n",
        "View this video by the Allen Institute:<br>\n",
        "[Understanding the fundamental building blocks of the brain - Allen Institute](https://www.youtube.com/watch?v=1GWyjxzxqII\n",
        "\n",
        "## WEDNESDAY\n",
        "Sketch a 10-cell model of the amygdala network as indicated in [these slides](/resources/week14/D5-ACT~1.PPT).\n",
        "\n",
        "## FRIDAY\n",
        "Homework #14 Assigned: (i) Complete the questions in this sheet related to the topics covered this week and upload your answers to the Canvas site, and (ii) as with previous weeks there will be an online quiz on a Monday after you upload the homework.\n"
      ]
    }
  ],
  "metadata": {
    "kernelspec": {
      "display_name": "Python 3",
      "language": "python",
      "name": "python3"
    },
    "language_info": {
      "codemirror_mode": {
        "name": "ipython",
        "version": 3
      },
      "file_extension": ".py",
      "mimetype": "text/x-python",
      "name": "python",
      "nbconvert_exporter": "python",
      "pygments_lexer": "ipython3",
      "version": "3.7.8"
    }
  },
  "nbformat": 4,
  "nbformat_minor": 4
}