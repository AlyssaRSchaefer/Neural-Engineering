{
 "cells": [
  {
   "cell_type": "markdown",
   "metadata": {},
   "source": [
    "# Week 13: How do we model synapses and plasticity?\n",
    "\n",
    "## MONDAY and WEDNESDAY\n",
    "1. View these [slides](resources/week12/HOWDOT~1-1.PPT) on \"How do we model plasticity?\".\n",
    "2. Go to this [repository](https://github.com/cyneuro/Fear-Lesson-Plans) and select and follow self-learning Colab \"How do we model plasticity?\". \n",
    "\n",
    "## FRIDAY\n",
    "Homework #13 assigned: (i) Complete the questions in this week related to the topics covered this week and upload your answers to the Canvas site, and (ii) as with previous weeks there will be an online quiz on a Monday after you upload the homework."
   ]
  },
  {
   "cell_type": "code",
   "execution_count": null,
   "metadata": {},
   "outputs": [],
   "source": []
  }
 ],
 "metadata": {
  "kernelspec": {
   "display_name": "Python 3 (ipykernel)",
   "language": "python",
   "name": "python3"
  },
  "language_info": {
   "codemirror_mode": {
    "name": "ipython",
    "version": 3
   },
   "file_extension": ".py",
   "mimetype": "text/x-python",
   "name": "python",
   "nbconvert_exporter": "python",
   "pygments_lexer": "ipython3",
   "version": "3.12.1"
  }
 },
 "nbformat": 4,
 "nbformat_minor": 4
}
