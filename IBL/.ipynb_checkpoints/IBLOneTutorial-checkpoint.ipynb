{
 "cells": [
  {
   "cell_type": "markdown",
   "id": "5886bacf-9344-4dff-b960-48711a4bd313",
   "metadata": {},
   "source": [
    "# IBL One Tutorial"
   ]
  },
  {
   "cell_type": "markdown",
   "id": "05690314-3426-484a-bffc-e89c60275344",
   "metadata": {},
   "source": [
    "## Setup & Installation\n",
    "To install ONE, use: "
   ]
  },
  {
   "cell_type": "code",
   "execution_count": null,
   "id": "58923080-8e0a-407c-a488-506a23b8c7ce",
   "metadata": {},
   "outputs": [],
   "source": [
    "pip install ONE-api"
   ]
  },
  {
   "cell_type": "markdown",
   "id": "740a0797-40ac-49b5-811d-6bec635a4703",
   "metadata": {},
   "source": [
    "Next, the configuration depends on if you have downloaded an IBL database. To connect to the public IBL database, do the following:"
   ]
  },
  {
   "cell_type": "markdown",
   "id": "6e9b6f73-89dd-4171-a849-80eff232e4d9",
   "metadata": {},
   "source": [
    "Or, if you have downloaded an IBL database you can connect to your filesystem by specifying the file path."
   ]
  },
  {
   "cell_type": "code",
   "execution_count": null,
   "id": "efce42d2-c607-490e-a740-6bcb0da01ddf",
   "metadata": {},
   "outputs": [],
   "source": [
    "from one.api import ONE\n",
    "one = ONE(cache_dir='/home/user/downloads/ONE/database')"
   ]
  },
  {
   "cell_type": "markdown",
   "id": "250b7311-996b-49be-baf9-5c30489e7364",
   "metadata": {},
   "source": [
    "## Working with Data\n",
    "There are three methods main methods build in to the ONE API to explore data:\n",
    "1. search(): Returns a list of eIDs (experiment IDs) of experiments that fall under criteria you specify."
   ]
  },
  {
   "cell_type": "code",
   "execution_count": null,
   "id": "57c49f17-cd12-4846-b286-626ca8b17eaf",
   "metadata": {},
   "outputs": [],
   "source": [
    "eids = one.search( # will return a list of eids that match criteria\n",
    "    lab='CortexLabUCL',\n",
    "    subject='synapses'\n",
    ")"
   ]
  },
  {
   "cell_type": "code",
   "execution_count": null,
   "id": "69c061f6-8d40-42cf-8eef-5871bea5c490",
   "metadata": {},
   "outputs": [],
   "source": [
    "eids = one.search(data_range='2020-01-01', '2021-01-01], details=True) \n",
    "print(eids) #setting details=True returns additional data about each experiment in the list"
   ]
  },
  {
   "cell_type": "markdown",
   "id": "4bb6e5b5-3350-4e0a-9c46-c2c9875a59c0",
   "metadata": {},
   "source": [
    "2. list(): Returns a list of databases based on criteria you specify."
   ]
  },
  {
   "cell_type": "code",
   "execution_count": null,
   "id": "1a393636-bf4e-4a06-ac49-465a2b676c85",
   "metadata": {},
   "outputs": [],
   "source": [
    "datasets = one.list_datasets() #returns all datasets available\n",
    "one.describe_dataset(datasets[2]) # will output more info about a specific database-- this only works if you are on the public database"
   ]
  },
  {
   "cell_type": "code",
   "execution_count": null,
   "id": "16dfbe53-a34d-4fa2-9f9c-3e66ef8c80d4",
   "metadata": {},
   "outputs": [],
   "source": [
    "eid = \"KS023/2019-12-10/001\"\n",
    "datasets = one.list_datasets(eid) #returns datasets associated with specific experiment"
   ]
  },
  {
   "cell_type": "code",
   "execution_count": null,
   "id": "bfd5d097-8556-45f1-8751-91f9b8631777",
   "metadata": {},
   "outputs": [],
   "source": [
    "collections = one.list)collections() # list all collections in db or specify an eid to list collections in experiment"
   ]
  },
  {
   "cell_type": "markdown",
   "id": "f2f4cfbc-98fc-4f72-936e-456a3695c862",
   "metadata": {},
   "source": [
    "3. load(): Load in relevant data once desired datasets have been identified."
   ]
  },
  {
   "cell_type": "code",
   "execution_count": null,
   "id": "8d8b03c8-812a-4614-809b-4ee51dc0f0cc",
   "metadata": {},
   "outputs": [],
   "source": [
    "eid = 'CSH_ZAD_029/2020-09-19/001'\n",
    "trials = one.load_object(eid, 'trials') #load all datasets for a given object"
   ]
  },
  {
   "cell_type": "code",
   "execution_count": null,
   "id": "4e9f2bac-7875-4c83-8ce0-4ab1e36a56c3",
   "metadata": {},
   "outputs": [],
   "source": [
    "eid = 'CSH_ZAD_029/2020-09-19/001'\n",
    "trials = one.load_object(eid, 'trials', attribute=['intervals', 'reward']) #load in specific attributea for an object "
   ]
  },
  {
   "cell_type": "code",
   "execution_count": null,
   "id": "34ea0049-e254-459d-9795-32e43c21aa3d",
   "metadata": {},
   "outputs": [],
   "source": [
    "eid = 'CSH_ZAD_029/2020-09-19/001'\n",
    "trials = one.load_object(eid, 'clusters', collection='alf/probe01') #if more than one collection has that object, you must specific collection"
   ]
  },
  {
   "cell_type": "code",
   "execution_count": null,
   "id": "e87dd62b-54b5-4b59-bfc5-9ca28e08e970",
   "metadata": {},
   "outputs": [],
   "source": [
    "waveforms = one.load_dataset(eid, 'clusters.waveforms.npy', collection='alf/probe01') #load in single dataset"
   ]
  },
  {
   "cell_type": "code",
   "execution_count": null,
   "id": "db79bdd7-e531-4b12-b98a-5ce5e26bb046",
   "metadata": {},
   "outputs": [],
   "source": [
    "# load in two datsets in different collections\n",
    "data, info = one.load_datasets(eid, datasets=['_ibl_trials.rewardVolume.npy',\n",
    "                                              'clusters.waveforms.npy'],\n",
    "                               collections=['alf', 'alf/probe01'])"
   ]
  }
 ],
 "metadata": {
  "kernelspec": {
   "display_name": "Python 3 (ipykernel)",
   "language": "python",
   "name": "python3"
  },
  "language_info": {
   "codemirror_mode": {
    "name": "ipython",
    "version": 3
   },
   "file_extension": ".py",
   "mimetype": "text/x-python",
   "name": "python",
   "nbconvert_exporter": "python",
   "pygments_lexer": "ipython3",
   "version": "3.12.1"
  }
 },
 "nbformat": 4,
 "nbformat_minor": 5
}
