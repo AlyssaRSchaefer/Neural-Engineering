{
 "cells": [
  {
   "cell_type": "markdown",
   "metadata": {},
   "source": [
    "# Week One: How is our fear circuit hard-wired to head fear?\n",
    "\n",
    "## MONDAY\n",
    "1. Elon Musk is recruiting talent for his neuro company Neurolink! See the following article and video: https://www.cnn.com/2022/11/30/tech/elon-musk-neuralink-show-and-tell-scn/index.html\n",
    "\n",
    "2. What is a neuron? What are the components of a neuron? Watch the following two videos:\n",
    "\n",
    "[![The Neuron](images/theneuron.jpg)](https://www.youtube.com/watch?v=HZh0A-lWSmY)\n",
    "\n",
    "[![Phospholipid Bilayer](https://img.youtube.com/vi/x8ROEj2SFes/0.jpg)](https://www.youtube.com/watch?v=x8ROEj2SFes)\n",
    "\n",
    "3. View this video: A nice introduction to the [Cellular Mechanisms of Brain Function](https://training.incf.org/lesson/introduction-cellular-mechanisms-brain-function) by Prof. Carl Persen, France (12 minutes)\n",
    "\n",
    "[Your brain specs](resources/week1/Your%20Brain%20specs.pdf)\n",
    "\n",
    "## WEDNESDAY\n",
    "\n",
    "ACTIVITY: Demonstrating the process of \"reverse engineering the brain\". Later weeks will explain each component of the neural circuit... but first let's get the 'big picture'.\n",
    "\n",
    "[Video]\n",
    "NOTE: The slides shown in this video have been updated.\n",
    "\n",
    "[Updated Version](resources/week1/Activity%20-Sketch%20your%20fear%20circuit.pdf)\n",
    "\n",
    "## FRIDAY\n",
    "Homework #1 Assigned:\n",
    "1. Review the videos in the sections above which include both a general overview of the area and the specifics of what is a neuron (Monday class), and summarize the two videose 'The Neuron' and 'Phospholipid bilayer' in bullet (itemized form) limited to 1 page each.\n",
    "2. Perform the sketching activity (Wednesday class) that provides you with the motivation/context for the entire course.\n",
    "Then combine both the docs into one pdf, and upload them by clicking on the 'Assignment' tab on the left side in Canvas and selecting 'HW 1'. "
   ]
  },
  {
   "cell_type": "code",
   "execution_count": null,
   "metadata": {},
   "outputs": [],
   "source": []
  }
 ],
 "metadata": {
  "kernelspec": {
   "display_name": "Python 3 (ipykernel)",
   "language": "python",
   "name": "python3"
  },
  "language_info": {
   "codemirror_mode": {
    "name": "ipython",
    "version": 3
   },
   "file_extension": ".py",
   "mimetype": "text/x-python",
   "name": "python",
   "nbconvert_exporter": "python",
   "pygments_lexer": "ipython3",
   "version": "3.12.1"
  }
 },
 "nbformat": 4,
 "nbformat_minor": 4
}
